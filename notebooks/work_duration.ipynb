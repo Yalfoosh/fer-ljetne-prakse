{
 "cells": [
  {
   "cell_type": "markdown",
   "id": "b0538908",
   "metadata": {},
   "source": [
    "# FER ljetne prakse - duljine praksi"
   ]
  },
  {
   "cell_type": "markdown",
   "id": "647cddc1",
   "metadata": {},
   "source": [
    "## Priprema"
   ]
  },
  {
   "cell_type": "code",
   "execution_count": 1,
   "id": "c0f1631d",
   "metadata": {},
   "outputs": [],
   "source": [
    "from pathlib import Path\n",
    "import os"
   ]
  },
  {
   "cell_type": "code",
   "execution_count": 2,
   "id": "789ef947",
   "metadata": {},
   "outputs": [],
   "source": [
    "current_folder = Path(os.getcwd())\n",
    "root_folder = current_folder.parent"
   ]
  },
  {
   "cell_type": "code",
   "execution_count": 3,
   "id": "e766ba81",
   "metadata": {},
   "outputs": [],
   "source": [
    "import datetime\n",
    "import json\n",
    "import sys"
   ]
  },
  {
   "cell_type": "code",
   "execution_count": 4,
   "id": "20336516",
   "metadata": {},
   "outputs": [],
   "source": [
    "from tqdm import tqdm"
   ]
  },
  {
   "cell_type": "markdown",
   "id": "ba7cccf5",
   "metadata": {},
   "source": [
    "## Učitavanje podataka"
   ]
  },
  {
   "cell_type": "code",
   "execution_count": 5,
   "id": "cad684a5",
   "metadata": {},
   "outputs": [],
   "source": [
    "dump_path = root_folder / \"data\" / \"20200518_205700_edited.json\"\n",
    "\n",
    "with open(dump_path, encoding=\"utf8\", errors=\"replace\") as f:\n",
    "    data = json.load(f)"
   ]
  },
  {
   "cell_type": "code",
   "execution_count": 6,
   "id": "0f94d52b",
   "metadata": {},
   "outputs": [
    {
     "name": "stdout",
     "output_type": "stream",
     "text": [
      "Broj poslodavaca: 83\n"
     ]
    }
   ],
   "source": [
    "print(f\"Broj poslodavaca: {len(data)}\")"
   ]
  },
  {
   "cell_type": "markdown",
   "id": "7cab0c1e",
   "metadata": {},
   "source": [
    "## Obrada"
   ]
  },
  {
   "cell_type": "code",
   "execution_count": 7,
   "id": "c8d0b917",
   "metadata": {},
   "outputs": [
    {
     "name": "stdout",
     "output_type": "stream",
     "text": [
      "Obrađujem poslodavce: 100%|██████████| 83/83 [00:00<00:00, 46485.14it/s]\n"
     ]
    }
   ],
   "source": [
    "features = dict()\n",
    "\n",
    "for company_name, properties in tqdm(\n",
    "    data.items(), desc=\"Obrađujem poslodavce\", file=sys.stdout\n",
    "):\n",
    "    jobs = properties.get(\"jobs\")\n",
    "    \n",
    "    if jobs is None:\n",
    "        continue\n",
    "        \n",
    "    job_durations = list()\n",
    "        \n",
    "    for job in jobs:\n",
    "        start = job.get(\"start\")\n",
    "        end = job.get(\"end\")\n",
    "        \n",
    "        if start is None or len(start) == 0 or end is None or len(end) == 0:\n",
    "            job_durations.append(-1)\n",
    "        else:\n",
    "            start_tuple = [\n",
    "                int(x) for x in start.split(\".\")\n",
    "                if (x is not None and len(x) != 0)\n",
    "            ][::-1]\n",
    "            end_tuple = [\n",
    "                int(x) for x in end.split(\".\")\n",
    "                if (x is not None and len(x) != 0)\n",
    "            ][::-1]\n",
    "            \n",
    "            start_date = datetime.date(*start_tuple)\n",
    "            end_date = datetime.date(*end_tuple)\n",
    "            \n",
    "            job_durations.append((end_date - start_date).days)\n",
    "\n",
    "    features[company_name] = job_durations"
   ]
  },
  {
   "cell_type": "code",
   "execution_count": 8,
   "id": "5dce38ae",
   "metadata": {},
   "outputs": [],
   "source": [
    "week_resolution = 8\n",
    "\n",
    "buckets = [(-1, 0)]\n",
    "buckets.extend([(7 * i, 7 * i + 7) for i in range(week_resolution)])\n",
    "buckets.append((7 * week_resolution, 2**32))\n",
    "\n",
    "bucket_names = [\"nedefinirano\", \"manje od tjedna\"]\n",
    "bucket_names.extend(\n",
    "    [f\"između {i} i {i + 1} tjedna\" for i in range(1, week_resolution)]\n",
    ")\n",
    "bucket_names.append(f\"{week_resolution} tjedana ili više\")"
   ]
  },
  {
   "cell_type": "code",
   "execution_count": 9,
   "id": "8b8f5d05",
   "metadata": {},
   "outputs": [],
   "source": [
    "bucket2name = {b: n for b, n in zip(buckets, bucket_names)}\n",
    "bucket2employee = {b: set() for b in buckets}"
   ]
  },
  {
   "cell_type": "code",
   "execution_count": 10,
   "id": "b03c2b1f",
   "metadata": {},
   "outputs": [],
   "source": [
    "for company_name, days_list in features.items():\n",
    "    for days in days_list:\n",
    "        for bucket in buckets:\n",
    "            if bucket[0] <= days < bucket[1]:\n",
    "                bucket2employee[bucket].add(company_name)"
   ]
  },
  {
   "cell_type": "code",
   "execution_count": 11,
   "id": "0816a060",
   "metadata": {},
   "outputs": [],
   "source": [
    "results = tuple(\n",
    "    (bucket2name[b], list(sorted(bucket2employee[b])))\n",
    "    for b in sorted(bucket2employee.keys())\n",
    "    if len(bucket2employee[b]) != 0\n",
    ")\n"
   ]
  },
  {
   "cell_type": "code",
   "execution_count": 12,
   "id": "faf944b4",
   "metadata": {
    "scrolled": false
   },
   "outputs": [
    {
     "name": "stdout",
     "output_type": "stream",
     "text": [
      "nedefinirano:\n",
      "\tALTPRO\n",
      "\tATP Projektiranje\n",
      "\tIN2\n",
      "\tInSky Solutions\n",
      "\tXylon\n",
      "\n",
      "manje od tjedna:\n",
      "\tINETEC - Institut za nuklearnu tehnologiju\n",
      "\tINTIS ENGINEERING DOO\n",
      "\n",
      "između 2 i 3 tjedna:\n",
      "\tHŽ Infrastruktura\n",
      "\tKONČAR - INŽENJERING ZA ENERGETIKU I TRANSPORT D.D.\n",
      "\tKRAKEN\n",
      "\tS.C.A.N.\n",
      "\tSpan\n",
      "\n",
      "između 3 i 4 tjedna:\n",
      "\t8 Sigma\n",
      "\tAPIS IT\n",
      "\tDOK-ING\n",
      "\tHrvatska radiotelevizija (HRT)\n",
      "\tHŽ Infrastruktura\n",
      "\tNetgen\n",
      "\tPoslovna inteligencija\n",
      "\tSpan\n",
      "\n",
      "između 4 i 5 tjedna:\n",
      "\tElpos\n",
      "\tGDi\n",
      "\tHEP-Operator distribucijskog sustava\n",
      "\tHrvatski operator prijenosnog sustava\n",
      "\tIntea d.d.\n",
      "\tKONČAR - INŽENJERING ZA ENERGETIKU I TRANSPORT D.D.\n",
      "\tKod Biro\n",
      "\tSedam IT\n",
      "\tSevenofNine d.o.o. (Shape)\n",
      "\tSpan\n",
      "\n",
      "između 5 i 6 tjedna:\n",
      "\tAVL-AST\n",
      "\tMEGATREND POSLOVNA RJEŠENJA\n",
      "\tMICRO-LINK\n",
      "\n",
      "između 6 i 7 tjedna:\n",
      "\tAVL-AST\n",
      "\tINFIGO IS\n",
      "\tTehnozavod-Marušić\n",
      "\tTriple-Inovacije\n",
      "\n",
      "između 7 i 8 tjedna:\n",
      "\tAPIS IT\n",
      "\tHrvatska radiotelevizija (HRT)\n",
      "\tTehnozavod-Marušić\n",
      "\tdivIT / Delta Reality\n",
      "\n",
      "8 tjedana ili više:\n",
      "\tAPIS IT\n",
      "\tATOS Convergence Creators\n",
      "\tAi Data Labs\n",
      "\tArtronic\n",
      "\tCROZ\n",
      "\tComminus\n",
      "\tCuspis\n",
      "\tDatabox\n",
      "\tEkobit\n",
      "\tEnergetski institut Hrvoje Požar\n",
      "\tErste Group Card Processor\n",
      "\tGLOBALLOGIC\n",
      "\tHELB\n",
      "\tHEP-Operator distribucijskog sustava\n",
      "\tHUAWEI TECHNOLOGIES\n",
      "\tHrvatska akademska i istraživačka mreža - CARNET\n",
      "\tHrvatska radiotelevizija (HRT)\n",
      "\tHuman Resources Cloud\n",
      "\tINETEC - Institut za nuklearnu tehnologiju\n",
      "\tINFIGO IS\n",
      "\tIPC\n",
      "\tInceptum\n",
      "\tInfoart\n",
      "\tKONČAR - INŽENJERING ZA ENERGETIKU I TRANSPORT D.D.\n",
      "\tKončar Mjerni transformatori d.d.\n",
      "\tKončar-MES d.d.\n",
      "\tLeapbit\n",
      "\tMEĐIMURJE INFORMACIJSKO PROJEKTANTSKI CENTAR D.D.\n",
      "\tMOBILISIS\n",
      "\tMONTELEKTRO\n",
      "\tMaxtena\n",
      "\tMemgraph\n",
      "\tMireo d.d.\n",
      "\tNotus IT\n",
      "\tPerpetuum Mobile\n",
      "\tPet minuta d.o.o. (Five)\n",
      "\tPinky-S\n",
      "\tPoslovna inteligencija\n",
      "\tPrivredna banka Zagreb d.d.\n",
      "\tRASCO\n",
      "\tRecogno\n",
      "\tRimac Automobili\n",
      "\tRoMb Technologies\n",
      "\tSEDMI ODJEL\n",
      "\tSTORM Computers\n",
      "\tSartura\n",
      "\tSedam IT\n",
      "\tStype CS\n",
      "\tStyria Digital Development\n",
      "\tSuprabit\n",
      "\tTEO-Belišće\n",
      "\tTacta\n",
      "\tTellus d.o.o. za izradu softvera i savjetovanje\n",
      "\tTesla\n",
      "\tUprise\n",
      "\tVertiv Croatia\n",
      "\tdoXray B.V.\n",
      "\tmStart plus\n",
      "\n"
     ]
    }
   ],
   "source": [
    "for bucket_name, company_names in results:\n",
    "    print(f\"{bucket_name}:\")\n",
    "    \n",
    "    for company_name in company_names:\n",
    "        print(f\"\\t{company_name}\")\n",
    "              \n",
    "    print()"
   ]
  }
 ],
 "metadata": {
  "kernelspec": {
   "display_name": "ljetne-prakse",
   "language": "python",
   "name": "ljetne-prakse"
  },
  "language_info": {
   "codemirror_mode": {
    "name": "ipython",
    "version": 3
   },
   "file_extension": ".py",
   "mimetype": "text/x-python",
   "name": "python",
   "nbconvert_exporter": "python",
   "pygments_lexer": "ipython3",
   "version": "3.6.13"
  }
 },
 "nbformat": 4,
 "nbformat_minor": 5
}
