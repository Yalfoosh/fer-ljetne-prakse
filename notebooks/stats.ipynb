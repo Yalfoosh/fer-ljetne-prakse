{
 "cells": [
  {
   "cell_type": "markdown",
   "metadata": {},
   "source": [
    "# FER ljetne prakse 2019/2020"
   ]
  },
  {
   "cell_type": "markdown",
   "metadata": {},
   "source": [
    "U ovoj bilježnici izvršavat će se neka dječja analiza FER-ovih ljetnih praksi za\n",
    "a.g. 2019/2020."
   ]
  },
  {
   "cell_type": "markdown",
   "metadata": {},
   "source": [
    "Pretpostavljamo sljedeće stvari:\n",
    "\n",
    "- koristi se ručno obrađena datoteka `20200518_205700_edited.json`\n",
    "- minimalna satnica je $ 25.39 $ HRK (kao što kaže [ovaj](http://www.sczg.unizg.hr/media/uploads/sservis/odluka_o_iznosu_minimalne_naknade_za_obavljanje_studentskih_poslova_za_2020._godinu.pdf) dokument)\n",
    "- oznake satnice su:\n",
    "   - $ x \\in \\mathbb{N} $ (ili iznimno rang; `x-y`, $ x < y $)\n",
    "   - Da (ubraja se u prosjek kao $ 25.39 $ kn/h)\n",
    "   - Honorar (ne ubraja se u prosjek)\n",
    "   - DaNe (ne ubraja se u prosjek)\n",
    "      - kad nešto ne štima, ili se priča o mogućnostima/dogovorima\n",
    "   - Ne (ubraja se u prosjek kao $ 0 $ kn/h)\n",
    "- pozicija može imati dodatne informacije (označen s \"DODATAK: *poruka*.\")\n",
    "- izmjenjen je podataka \"position\" s oznakama radi lakše kategorizacije"
   ]
  },
  {
   "cell_type": "markdown",
   "metadata": {
    "pycharm": {
     "name": "#%% md\n"
    }
   },
   "source": [
    "## Priprema podataka"
   ]
  },
  {
   "cell_type": "code",
   "execution_count": 1,
   "metadata": {},
   "outputs": [
    {
     "name": "stdout",
     "output_type": "stream",
     "text": [
      "/mnt/data/projekti/osobno/fer-ljetne-prakse\n"
     ]
    }
   ],
   "source": [
    "cd .."
   ]
  },
  {
   "cell_type": "code",
   "execution_count": 2,
   "metadata": {
    "pycharm": {
     "name": "#%%\n"
    }
   },
   "outputs": [],
   "source": [
    "import json\n",
    "\n",
    "from IPython.display import display, Markdown\n",
    "\n",
    "from bin.util import calculate_average\n",
    "\n",
    "with open(\"data/20200518_205700_edited.json\") as file:\n",
    "    company_dict = json.load(file)\n",
    "\n",
    "min_wage = 25.39"
   ]
  },
  {
   "cell_type": "markdown",
   "metadata": {
    "pycharm": {
     "name": "#%% md\n"
    }
   },
   "source": [
    "## Općenita statistika"
   ]
  },
  {
   "cell_type": "code",
   "execution_count": 3,
   "metadata": {
    "pycharm": {
     "name": "#%%\n"
    }
   },
   "outputs": [],
   "source": [
    "n_companies = len(company_dict)\n",
    "jobs = list()\n",
    "\n",
    "for company, work in company_dict.items():\n",
    "    jobs.extend(work[\"jobs\"])\n",
    "    \n",
    "n_jobs = len(jobs)\n",
    "n_positions = sum([job[\"n_available\"] for job in jobs])\n",
    "\n",
    "avg_per_pos, avg_per_per = [calculate_average(company_dict,\n",
    "                                              min_wage,\n",
    "                                              per_person=x)\n",
    "                            for x in [False, True]]"
   ]
  },
  {
   "cell_type": "code",
   "execution_count": 4,
   "metadata": {
    "pycharm": {
     "name": "#%%\n"
    }
   },
   "outputs": [],
   "source": [
    "general_str = f\"Ljetne prakse ukupno nudi **{len(company_dict)}** tvrtki.\" \\\n",
    "              f\"<br>\" \\\n",
    "              f\"Nudi se **{n_jobs}** poslova, za ukupno **{n_positions}** ljudi.\" \\\n",
    "              f\"<br><br>\" \\\n",
    "              f\"Prosječna satnica po poslu je **{avg_per_pos:.02f}** kn/h.\" \\\n",
    "              f\"<br>\" \\\n",
    "              f\"Prosječna satnica po osobi je **{avg_per_per:.02f}** kn/h.\""
   ]
  },
  {
   "cell_type": "code",
   "execution_count": 5,
   "metadata": {
    "pycharm": {
     "name": "#%%\n"
    }
   },
   "outputs": [
    {
     "data": {
      "text/markdown": [
       "Ljetne prakse ukupno nudi **83** tvrtki.<br>Nudi se **233** poslova, za ukupno **400** ljudi.<br><br>Prosječna satnica po poslu je **12.68** kn/h.<br>Prosječna satnica po osobi je **12.84** kn/h."
      ],
      "text/plain": [
       "<IPython.core.display.Markdown object>"
      ]
     },
     "metadata": {},
     "output_type": "display_data"
    }
   ],
   "source": [
    "display(Markdown(general_str))"
   ]
  },
  {
   "cell_type": "code",
   "execution_count": null,
   "metadata": {},
   "outputs": [],
   "source": []
  }
 ],
 "metadata": {
  "kernelspec": {
   "display_name": "Python 3",
   "language": "python",
   "name": "python3"
  },
  "language_info": {
   "codemirror_mode": {
    "name": "ipython",
    "version": 3
   },
   "file_extension": ".py",
   "mimetype": "text/x-python",
   "name": "python",
   "nbconvert_exporter": "python",
   "pygments_lexer": "ipython3",
   "version": "3.6.10"
  }
 },
 "nbformat": 4,
 "nbformat_minor": 1
}
