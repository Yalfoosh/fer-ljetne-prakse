{
 "cells": [
  {
   "cell_type": "markdown",
   "source": [
    "# FER ljetne prakse 2019/2020"
   ],
   "metadata": {
    "collapsed": false
   }
  },
  {
   "cell_type": "markdown",
   "source": [
    "U ovoj bilježnici izvršavat će se neka dječja analiza FER-ovih ljetnih praksi za\n",
    "a.g. 2019/2020."
   ],
   "metadata": {
    "collapsed": false
   }
  },
  {
   "cell_type": "markdown",
   "source": [
    "Pretpostavljamo sljedeće stvari:\n",
    "\n",
    "- koristi se ručno obrađena datoteka `20200518_205700_edited.json`\n",
    "- minimalna satnica je $ 25.39 $ HRK (kao što kaže [ovaj](http://www.sczg.unizg.hr/media/uploads/sservis/odluka_o_iznosu_minimalne_naknade_za_obavljanje_studentskih_poslova_za_2020._godinu.pdf) dokument)\n",
    "- oznake satnice su:\n",
    "   - $ x \\in \\mathbb{N} $ (ili iznimno rang; `x-y`, $ x < y $)\n",
    "   - Da (ubraja se u prosjek kao $ 25.39 $ kn/h)\n",
    "   - Honorar (ne ubraja se u prosjek)\n",
    "   - DaNe (ubraja se u prosjek kao $ 0 $ kn/h)\n",
    "      - kad nešto ne štima, ili se priča o mogućnostima/dogovorima\n",
    "   - Ne (ubraja se u prosjek kao $ 0 $ kn/h)\n",
    "- pozicija može imati dodatne informacije (označen s \"DODATAK: *poruka*.\")\n",
    "- izmjenjen je podataka \"position\" s oznakama radi lakše kategorizacije"
   ],
   "metadata": {
    "collapsed": false
   }
  },
  {
   "cell_type": "markdown",
   "source": [
    "## Priprema podataka"
   ],
   "metadata": {
    "collapsed": false,
    "pycharm": {
     "name": "#%% md\n"
    }
   }
  },
  {
   "cell_type": "code",
   "execution_count": null,
   "outputs": [],
   "source": [
    "import json\n",
    "\n",
    "from IPython.display import display, Markdown\n",
    "\n",
    "from bin.util import calculate_average\n",
    "\n",
    "with open(\"../data/20200518_205700_edited.json\") as file:\n",
    "    company_dict = json.load(file)\n",
    "\n",
    "min_wage = 25.39"
   ],
   "metadata": {
    "collapsed": false,
    "pycharm": {
     "name": "#%%\n"
    }
   }
  },
  {
   "cell_type": "markdown",
   "source": [
    "## Općenita statistika"
   ],
   "metadata": {
    "collapsed": false,
    "pycharm": {
     "name": "#%% md\n"
    }
   }
  },
  {
   "cell_type": "code",
   "execution_count": null,
   "outputs": [],
   "source": [
    "general_str = f\"Ljetne prakse ukupno nudi {len(company_dict)} tvrtki.\" \\\n",
    "              f\"<br><br>\" \\\n",
    "              f\"Prosječna satnica je \" \\\n",
    "              f\"{calculate_average(company_dict, min_wage)} kn/h.\"\n",
    "\n",
    "display(Markdown(general_str))"
   ],
   "metadata": {
    "collapsed": false,
    "pycharm": {
     "name": "#%%\n"
    }
   }
  }
 ],
 "metadata": {
  "kernelspec": {
   "display_name": "Python 3",
   "language": "python",
   "name": "python3"
  },
  "language_info": {
   "codemirror_mode": {
    "name": "ipython",
    "version": 2
   },
   "file_extension": ".py",
   "mimetype": "text/x-python",
   "name": "python",
   "nbconvert_exporter": "python",
   "pygments_lexer": "ipython2",
   "version": "2.7.6"
  }
 },
 "nbformat": 4,
 "nbformat_minor": 0
}